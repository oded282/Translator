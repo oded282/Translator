{
 "metadata": {
  "language_info": {
   "codemirror_mode": {
    "name": "ipython",
    "version": 3
   },
   "file_extension": ".py",
   "mimetype": "text/x-python",
   "name": "python",
   "nbconvert_exporter": "python",
   "pygments_lexer": "ipython3",
   "version": "3.7.8-final"
  },
  "orig_nbformat": 2,
  "kernelspec": {
   "name": "python3",
   "display_name": "Python 3"
  }
 },
 "nbformat": 4,
 "nbformat_minor": 2,
 "cells": [
  {
   "cell_type": "code",
   "execution_count": 2,
   "metadata": {},
   "outputs": [
    {
     "output_type": "stream",
     "name": "stdout",
     "text": [
      "Requirement already satisfied: requests in /Users/matanshamir/.pyenv/versions/3.7.8/lib/python3.7/site-packages (2.25.0)\n",
      "Requirement already satisfied: chardet<4,>=3.0.2 in /Users/matanshamir/.pyenv/versions/3.7.8/lib/python3.7/site-packages (from requests) (3.0.4)\n",
      "Requirement already satisfied: idna<3,>=2.5 in /Users/matanshamir/.pyenv/versions/3.7.8/lib/python3.7/site-packages (from requests) (2.10)\n",
      "Requirement already satisfied: urllib3<1.27,>=1.21.1 in /Users/matanshamir/.pyenv/versions/3.7.8/lib/python3.7/site-packages (from requests) (1.26.2)\n",
      "Requirement already satisfied: certifi>=2017.4.17 in /Users/matanshamir/.pyenv/versions/3.7.8/lib/python3.7/site-packages (from requests) (2020.11.8)\n",
      "\u001b[33mWARNING: You are using pip version 20.2.2; however, version 20.2.4 is available.\n",
      "You should consider upgrading via the '/Users/matanshamir/.pyenv/versions/3.7.8/bin/python -m pip install --upgrade pip' command.\u001b[0m\n"
     ]
    }
   ],
   "source": [
    "!pip install requests\n",
    "import requests"
   ]
  },
  {
   "cell_type": "code",
   "execution_count": 10,
   "metadata": {},
   "outputs": [
    {
     "output_type": "execute_result",
     "data": {
      "text/plain": [
       "'יש שלט על הקיר אבל היא רוצה להיות בטוחה'"
      ]
     },
     "metadata": {},
     "execution_count": 10
    }
   ],
   "source": [
    "r = requests.get('http://localhost:8000/api/v1/translate?src=en&tgt=he&text=There is a sign on the wall but she wants to be sure')\n",
    "r.text"
   ]
  },
  {
   "cell_type": "code",
   "execution_count": 12,
   "metadata": {},
   "outputs": [
    {
     "output_type": "execute_result",
     "data": {
      "text/plain": [
       "'כי אתה יודע שלפעמים למילים יש שתי משמעויות'"
      ]
     },
     "metadata": {},
     "execution_count": 12
    }
   ],
   "source": [
    "r = requests.get('http://localhost:8000/api/v1/translate?src=en&tgt=he&text=Cause you know sometimes words have two meanings')\n",
    "r.text"
   ]
  },
  {
   "cell_type": "code",
   "execution_count": 13,
   "metadata": {},
   "outputs": [
    {
     "output_type": "execute_result",
     "data": {
      "text/plain": [
       "'בעץ ליד הנחל יש ציפור שיר ששרה'"
      ]
     },
     "metadata": {},
     "execution_count": 13
    }
   ],
   "source": [
    "r = requests.get('http://localhost:8000/api/v1/translate?src=en&tgt=he&text=In a tree by the brook there is a songbird who sings')\n",
    "r.text"
   ]
  },
  {
   "cell_type": "code",
   "execution_count": 17,
   "metadata": {},
   "outputs": [
    {
     "output_type": "execute_result",
     "data": {
      "text/plain": [
       "'- У моего отца есть лестница.'"
      ]
     },
     "metadata": {},
     "execution_count": 17
    }
   ],
   "source": [
    "r = requests.get('http://localhost:8000/api/v1/translate?src=he&tgt=ru&text= לאבא שלי יש סולם')\n",
    "r.text"
   ]
  },
  {
   "cell_type": "code",
   "execution_count": 16,
   "metadata": {},
   "outputs": [
    {
     "output_type": "execute_result",
     "data": {
      "text/plain": [
       "'♪ И пять шаров ♪'"
      ]
     },
     "metadata": {},
     "execution_count": 16
    }
   ],
   "source": [
    "r = requests.get('http://localhost:8000/api/v1/translate?src=he&tgt=ru&text= מעשה בחמישה בלונים')\n",
    "r.text"
   ]
  },
  {
   "cell_type": "code",
   "execution_count": 18,
   "metadata": {},
   "outputs": [
    {
     "output_type": "execute_result",
     "data": {
      "text/plain": [
       "'Я купил себе свечки на День Зажигания.'"
      ]
     },
     "metadata": {},
     "execution_count": 18
    }
   ],
   "source": [
    "r = requests.get('http://localhost:8000/api/v1/translate?src=he&tgt=ru&text= שמן זך השגתי לי ונרות חג הדלקתי לי')\n",
    "r.text"
   ]
  }
 ]
}